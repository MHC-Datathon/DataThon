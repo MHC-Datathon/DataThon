{
 "cells": [
  {
   "cell_type": "code",
   "execution_count": 1,
   "id": "a1566a4f-db71-4880-a798-ad5438cb80f0",
   "metadata": {},
   "outputs": [],
   "source": [
    "import pandas as pd \n",
    "import geopandas as gpd\n",
    "from shapely.geometry import Point"
   ]
  },
  {
   "cell_type": "code",
   "execution_count": null,
   "id": "c67430a0-9c03-417d-9738-9bb8d895eb87",
   "metadata": {},
   "outputs": [],
   "source": [
    "# ACE Violations from 2023 Jul 01 12:00:00 AM to 2023 December 31 11:45:00 PM (6 Month Period)\n",
    "df = pd.read_csv(\"Datasets/ACE_Violations_Jul-Dec2023.csv\")"
   ]
  }
 ],
 "metadata": {
  "kernelspec": {
   "display_name": "Python 3 (ipykernel)",
   "language": "python",
   "name": "python3"
  },
  "language_info": {
   "codemirror_mode": {
    "name": "ipython",
    "version": 3
   },
   "file_extension": ".py",
   "mimetype": "text/x-python",
   "name": "python",
   "nbconvert_exporter": "python",
   "pygments_lexer": "ipython3",
   "version": "3.13.5"
  }
 },
 "nbformat": 4,
 "nbformat_minor": 5
}
